{
  "nbformat": 4,
  "nbformat_minor": 0,
  "metadata": {
    "colab": {
      "provenance": []
    },
    "kernelspec": {
      "name": "python3",
      "display_name": "Python 3"
    },
    "language_info": {
      "name": "python"
    }
  },
  "cells": [
    {
      "cell_type": "markdown",
      "source": [
        "#Задача 1\n",
        "Написать функцию на вход которой подается строка, состоящая из латинских букв.\n",
        "Функция должна вернуть количество гласных букв (a, e, i, o, u) в этой строке. Написать тесты для кода"
      ],
      "metadata": {
        "id": "M-DGa20PaHnu"
      }
    },
    {
      "cell_type": "code",
      "source": [
        "def CountLetters(s):\n",
        "  if type(s) is not str:\n",
        "    return 'Некорректные данные'\n",
        "  k = 0 # Счетчик\n",
        "  for i in s: # Проходим по строке через цикл for\n",
        "    if i == 'a' or i == 'e' or i == 'i' or i == 'o' or i == 'u': #Если встречается нужная буква к счетчику прибавляется 1\n",
        "      k += 1\n",
        "  return k #Возвращается значение счетчика\n",
        "\n",
        "#Тесты\n",
        "print(CountLetters('aaaaeee'), 7)\n",
        "print(CountLetters('udofudofa'), 5)\n",
        "print(CountLetters('adaapooofiiidarog'), 11)\n",
        "print(CountLetters(123), 'Некорректные данные')\n",
        "print(CountLetters(True), 'Некорректные данные')"
      ],
      "metadata": {
        "id": "XvX8X_JJ6PCb",
        "colab": {
          "base_uri": "https://localhost:8080/"
        },
        "outputId": "e2bf9080-7326-4382-e17d-92545d444f32"
      },
      "execution_count": null,
      "outputs": [
        {
          "output_type": "stream",
          "name": "stdout",
          "text": [
            "7 7\n",
            "5 5\n",
            "11 11\n",
            "Некорректные данные Некорректные данные\n",
            "Некорректные данные Некорректные данные\n"
          ]
        }
      ]
    },
    {
      "cell_type": "markdown",
      "source": [
        "# Задача 2\n",
        "Написать функцию на вход, которой подается строка. Функция должна вернуть true, если\n",
        "каждый символ в строке встречается только 1 раз, иначе должна вернуть false. Написать тесты для кода"
      ],
      "metadata": {
        "id": "t2ClV_Y0bbr6"
      }
    },
    {
      "cell_type": "code",
      "source": [
        "def DifferentSymbols(s):\n",
        "    # Проверяем, является ли входные данные строкой\n",
        "    if type(s) is not str:\n",
        "        return 'Некорректные данные'\n",
        "    a = set()\n",
        "    for i in s:\n",
        "        a.add(i)  # Добавляем символ в множество (дубликаты игнорируются)\n",
        "    # Сравниваем количество уникальных символов с общей длиной строки\n",
        "    if len(a) == len(s):\n",
        "        return True  # Возвращаем True, если все символы уникальны\n",
        "    return False  # Возвращаем False, если есть дубликаты\n",
        "\n",
        "#Тесты\n",
        "print(DifferentSymbols('aaadjfk'), False)\n",
        "print(DifferentSymbols('asdfgjkl'), True)\n",
        "print(DifferentSymbols('asdfffghjkl'), False)\n",
        "print(DifferentSymbols(123), 'Некорректные данные')\n",
        "print(DifferentSymbols(True), 'Некорректные данные')"
      ],
      "metadata": {
        "id": "FppbECao6VIz",
        "colab": {
          "base_uri": "https://localhost:8080/"
        },
        "outputId": "1fd99a6f-ba4f-42e8-fc9e-1c504ec2cfe0"
      },
      "execution_count": null,
      "outputs": [
        {
          "output_type": "stream",
          "name": "stdout",
          "text": [
            "False False\n",
            "True True\n",
            "False False\n",
            "Некорректные данные Некорректные данные\n",
            "Некорректные данные Некорректные данные\n"
          ]
        }
      ]
    },
    {
      "cell_type": "code",
      "source": [
        "set('aaadjfk')"
      ],
      "metadata": {
        "colab": {
          "base_uri": "https://localhost:8080/"
        },
        "id": "k3-F41xubHe3",
        "outputId": "5a8817b2-2767-4ab2-8195-4d511b465645"
      },
      "execution_count": null,
      "outputs": [
        {
          "output_type": "execute_result",
          "data": {
            "text/plain": [
              "{'a', 'd', 'f', 'j', 'k'}"
            ]
          },
          "metadata": {},
          "execution_count": 3
        }
      ]
    },
    {
      "cell_type": "markdown",
      "source": [
        "# Задача 3\n",
        "Написать функцию, которая принимает положительное число и возвращает количество\n",
        "бит равных 1 в этом числе. Написать тесты для кода"
      ],
      "metadata": {
        "id": "udRiIK1cdt6E"
      }
    },
    {
      "cell_type": "code",
      "source": [
        "def CountBites(a):\n",
        "  if type(a) is not int:\n",
        "    return 'Некорректные данные'\n",
        "  return str(bin(a)).count('1')\n",
        "\n",
        "#Тесты\n",
        "print(CountBites(7), 3)\n",
        "print(CountBites(10), 2)\n",
        "print(CountBites(80), 2)\n",
        "print(CountBites('asdasd'), 'Некорректные данные')\n",
        "print(CountBites(True), 'Некорректные данные')"
      ],
      "metadata": {
        "id": "6tkfDJRz6dp_",
        "colab": {
          "base_uri": "https://localhost:8080/"
        },
        "outputId": "2bc7b06f-7f34-4a82-a2a7-2799cedb6395"
      },
      "execution_count": null,
      "outputs": [
        {
          "output_type": "stream",
          "name": "stdout",
          "text": [
            "3 3\n",
            "2 2\n",
            "2 2\n",
            "Некорректные данные Некорректные данные\n",
            "Некорректные данные Некорректные данные\n"
          ]
        }
      ]
    },
    {
      "cell_type": "markdown",
      "source": [
        "# Задача 4\n",
        "Написать функцию, которая принимает положительное число. Функция должна вернуть то,\n",
        "сколько раз необходимо перемножать цифры числа или результат перемножения, чтобы\n",
        "получилось число состоящее из одной цифры.\n",
        "Например, для входного числа:\n",
        "· 39 функция должна вернуть 3, так как 3*9=27 => 2*7=14 => 1*4=4\n",
        "· 4 функция должна вернуть 0, так как число уже состоит из одной цифры\n",
        "· 999 функция должна вернуть 4, так как 9*9*9=729 => 7*2*9=126 => 1*2*6=12 =>\n",
        "1*2=2. Написать тесты для кода"
      ],
      "metadata": {
        "id": "26dDUz-Ae17N"
      }
    },
    {
      "cell_type": "code",
      "source": [
        "def magic(n):\n",
        "    # Если число уже состоит из одной цифры, возвращаем 0\n",
        "    if n < 10:\n",
        "        return 0\n",
        "    # Счетчик шагов\n",
        "    s = 0\n",
        "    # Пока число не станет однозначным\n",
        "    while n >= 10:\n",
        "        # Разбиваем число на цифры и перемножаем их\n",
        "        p = 1\n",
        "        for d in str(n):\n",
        "            p *= int(d)\n",
        "        n = p\n",
        "        s += 1\n",
        "    return s\n",
        "\n",
        "#Тесты\n",
        "print(magic(39), 3)\n",
        "print(magic(999), 4)\n",
        "print(magic(1234), 2)\n",
        "print(magic(5), 0)\n",
        "print(magic(678), 4)"
      ],
      "metadata": {
        "id": "BH1A_Mgi6i4G",
        "colab": {
          "base_uri": "https://localhost:8080/"
        },
        "outputId": "49a733a9-2121-49d5-bd0b-24fb39d2ec61"
      },
      "execution_count": null,
      "outputs": [
        {
          "output_type": "stream",
          "name": "stdout",
          "text": [
            "3 3\n",
            "4 4\n",
            "2 2\n",
            "0 0\n",
            "4 4\n"
          ]
        }
      ]
    },
    {
      "cell_type": "markdown",
      "source": [
        "# Задача 5\n",
        "Написать функцию, которая принимает два целочисленных вектора одинаковой длины и\n",
        "возвращает среднеквадратическое отклонение двух векторов. Написать тесты для кода"
      ],
      "metadata": {
        "id": "0nS-kIa8g8vd"
      }
    },
    {
      "cell_type": "code",
      "source": [
        "def mse(pred, true):\n",
        "    # Проверяем, что длины векторов совпадают\n",
        "    if len(pred) != len(true):\n",
        "        return \"Вектора разной длины\"\n",
        "    # Вычисляем сумму квадратов разностей и делим на количество элементов\n",
        "    return round((sum((p - t) ** 2 for p, t in zip(pred, true)) / len(pred))**0.5, 2)\n",
        "\n",
        "#Тесты\n",
        "print(mse([1, 2, 3], [1, 2, 3]), 0)\n",
        "print(mse([1, 2, 3], [3, 2, 1]), 1.63)\n",
        "print(mse([0, 0, 0], [0, 0, 0]), 0)\n",
        "print(mse([1, 4, 6], [2, 4, 5]), 0.82)\n",
        "print(mse([1, 2], [3, 4, 5]), 'Вектора разной длины')"
      ],
      "metadata": {
        "id": "8iphx4LM6xbx",
        "colab": {
          "base_uri": "https://localhost:8080/"
        },
        "outputId": "44c89c5e-23b9-493e-bfdd-c6bb912570f9"
      },
      "execution_count": null,
      "outputs": [
        {
          "output_type": "stream",
          "name": "stdout",
          "text": [
            "0.0 0\n",
            "1.63 1.63\n",
            "0.0 0\n",
            "0.82 0.82\n",
            "Вектора разной длины Вектора разной длины\n"
          ]
        }
      ]
    },
    {
      "cell_type": "markdown",
      "source": [
        "# Задача 6\n",
        "Написать функцию, принимающая целое положительное число. Функция должна вернуть\n",
        "строку вида “(n1**p1)(n2**p2)…(nk**pk)” представляющая разложение числа на простые\n",
        "множители (если pi == 1, то выводить только ni).\n",
        "Например, для числа 86240 функция должна вернуть “(2**5)(5)(7**2)(11)”. Написать тесты для кода"
      ],
      "metadata": {
        "id": "vpIPKL439zkw"
      }
    },
    {
      "cell_type": "code",
      "source": [
        "def SimpleFactors(n):\n",
        "    # Проверяем, является ли число положительным\n",
        "    if n <= 0:\n",
        "        return 'Число не положительное'\n",
        "    # Обрабатываем случай, когда n равно 1\n",
        "    if n == 1:\n",
        "        return '(1)'\n",
        "    f = {}  # Словарь для хранения простых множителей и их степеней\n",
        "    d = 2  # Начинаем проверку делителей с 2 (первый простой число)\n",
        "    while n > 1:\n",
        "        while n % d == 0:\n",
        "            if d in f:\n",
        "                f[d] += 1  # Увеличиваем степень простого множителя\n",
        "            else:\n",
        "                f[d] = 1  # Инициализируем степень простого множителя\n",
        "            n //= d  # Делим n на d для продолжения факторизации\n",
        "        d += 1  # Переходим к следующему возможному простому делителю\n",
        "    res = []  # Список для хранения строкового представления простых множителей\n",
        "    for p, k in f.items():\n",
        "        if k > 1:\n",
        "            res.append(f\"({p}**{k})\")\n",
        "        else:\n",
        "            res.append(f\"({p})\")\n",
        "    return ''.join(res)\n",
        "\n",
        "# Тесты\n",
        "print(SimpleFactors(86240), '(2**5)(5)(7**2)(11)')\n",
        "print(SimpleFactors(-3), 'Число не положительное')\n",
        "print(SimpleFactors(37), '(37)')\n",
        "print(SimpleFactors(144), '(2**4)(3**2)')\n",
        "print(SimpleFactors(1), '(1)')"
      ],
      "metadata": {
        "id": "pFebmcZk94Jw",
        "colab": {
          "base_uri": "https://localhost:8080/"
        },
        "outputId": "48e2990d-6850-48ea-c06f-b7d5151af9cb"
      },
      "execution_count": null,
      "outputs": [
        {
          "output_type": "stream",
          "name": "stdout",
          "text": [
            "(2**5)(5)(7**2)(11) (2**5)(5)(7**2)(11)\n",
            "Число не положительное Число не положительное\n",
            "(37) (37)\n",
            "(2**4)(3**2) (2**4)(3**2)\n",
            "(1) (1)\n"
          ]
        }
      ]
    },
    {
      "cell_type": "markdown",
      "source": [
        "# Задача 7\n",
        "Написать функцию, принимающая целое число n, задающее количество кубиков. Функция\n",
        "должна определить, можно ли из данного кол-ва кубиков построить пирамиду, то есть\n",
        "можно ли представить число n как 1^2+2^2+3^2+…+k^2. Если можно, то функция должна\n",
        "вернуть k, иначе строку “It is impossible”. Написать тесты для кода"
      ],
      "metadata": {
        "id": "ps2s0BudX7A2"
      }
    },
    {
      "cell_type": "code",
      "source": [
        "def pyramid(number):\n",
        "    # Проверяем, является ли число меньше 1\n",
        "    if number < 1:\n",
        "        return \"It is impossible\"\n",
        "    k = 0\n",
        "    t = 0\n",
        "    # Цикл, продолжающийся, пока сумма квадратов меньше заданного числа\n",
        "    while t < number:\n",
        "        k += 1  # Увеличиваем уровень пирамиды\n",
        "        t += k ** 2  # Добавляем квадрат текущего уровня к сумме\n",
        "    # Проверяем, равно ли t заданному числу\n",
        "    if t == number:\n",
        "        return k\n",
        "    else:\n",
        "        return \"It is impossible\"\n",
        "\n",
        "# Тесты\n",
        "print(pyramid(1), 1)\n",
        "print(pyramid(5), 2)\n",
        "print(pyramid(14), 3)\n",
        "print(pyramid(30), 4)\n",
        "print(pyramid(55), 5)\n",
        "print(pyramid(0), 'It is impossible')\n",
        "print(pyramid(7), 'It is impossible')"
      ],
      "metadata": {
        "id": "3YPjEXxhX_YT",
        "colab": {
          "base_uri": "https://localhost:8080/"
        },
        "outputId": "571ac4be-db65-4213-abce-980d3122801e"
      },
      "execution_count": null,
      "outputs": [
        {
          "output_type": "stream",
          "name": "stdout",
          "text": [
            "1\n",
            "2\n",
            "3\n",
            "4\n",
            "5\n",
            "It is impossible\n",
            "It is impossible\n"
          ]
        }
      ]
    },
    {
      "cell_type": "markdown",
      "source": [
        "# Задача 8\n",
        "Функция принимает на вход положительное число и определяет является ли оно сбалансированным, т.е. сумма цифр до средних равна сумме цифр после. Средними в случае нечетного числа цифр считать одну цифру, в случае четного - две средних. Написать тесты для кода"
      ],
      "metadata": {
        "id": "KeKgmIdAQMEJ"
      }
    },
    {
      "cell_type": "code",
      "source": [
        "def BalanceNumber(n):\n",
        "    # Проверяем, является ли число неположительным\n",
        "    if n <= 0:\n",
        "        return 'Число не положительное'\n",
        "    s = str(n)\n",
        "    lenn = len(s)\n",
        "    # Проверяем, является ли длина числа четной\n",
        "    if lenn % 2 == 0:\n",
        "        mid = lenn // 2\n",
        "        # Считаем сумму цифр левой половины\n",
        "        left = sum(int(d) for d in s[:mid])\n",
        "        # Считаем сумму цифр правой половины\n",
        "        right = sum(int(d) for d in s[mid:])\n",
        "    else:\n",
        "        mid = lenn // 2\n",
        "        # Считаем сумму цифр левой половины\n",
        "        left = sum(int(d) for d in s[:mid])\n",
        "        # Считаем сумму цифр правой половины (пропуская среднюю цифру)\n",
        "        right = sum(int(d) for d in s[mid + 1:])\n",
        "    return left == right\n",
        "\n",
        "# Тесты\n",
        "print(BalanceNumber(123321), True)\n",
        "print(BalanceNumber(1234321), True)\n",
        "print(BalanceNumber(1233210), False)\n",
        "print(BalanceNumber(12321), True)\n",
        "print(BalanceNumber(123), False)\n",
        "print(BalanceNumber(0), 'Число не положительное')\n",
        "print(BalanceNumber(7))"
      ],
      "metadata": {
        "id": "gMAAqtqlQrZt",
        "colab": {
          "base_uri": "https://localhost:8080/"
        },
        "outputId": "09f772bb-36bd-4bae-dfef-84c4e339446e"
      },
      "execution_count": null,
      "outputs": [
        {
          "output_type": "stream",
          "name": "stdout",
          "text": [
            "True True\n",
            "True True\n",
            "False False\n",
            "True True\n",
            "False False\n",
            "Число не положительное Число не положительное\n",
            "True\n"
          ]
        }
      ]
    }
  ]
}