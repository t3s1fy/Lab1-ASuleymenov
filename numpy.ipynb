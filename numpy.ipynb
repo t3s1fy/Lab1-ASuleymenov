{
  "nbformat": 4,
  "nbformat_minor": 0,
  "metadata": {
    "colab": {
      "provenance": []
    },
    "kernelspec": {
      "name": "python3",
      "display_name": "Python 3"
    },
    "language_info": {
      "name": "python"
    }
  },
  "cells": [
    {
      "cell_type": "markdown",
      "source": [
        "<h1>Импорт библиотек"
      ],
      "metadata": {
        "id": "vC84e9kzyxPy"
      }
    },
    {
      "cell_type": "code",
      "execution_count": null,
      "metadata": {
        "id": "cgKeNegmQG5S"
      },
      "outputs": [],
      "source": [
        "import numpy as np\n",
        "import matplotlib.pyplot as plt\n",
        "import pandas as pd"
      ]
    },
    {
      "cell_type": "markdown",
      "source": [
        "<h1>Задача 1. Дан набор из $p$ матриц размерностью $(n, n)$ и $p$ векторов размерностью $(n, 1)$, найти сумму произведений матриц на векторы. Написать тесты для кода"
      ],
      "metadata": {
        "id": "qFM9uVU2x4Ls"
      }
    },
    {
      "cell_type": "code",
      "source": [
        "def sum_prod(X, V):\n",
        "    '''\n",
        "    X - матрицы (n, n)\n",
        "    V - векторы (n, 1)\n",
        "    Гарантируется, что len(X) == len(V)\n",
        "    '''\n",
        "    sum = np.zeros((X[0].shape[0], 1))  # Инициализируем суммарный вектор нулями (размерность (n, 1))\n",
        "    for matrix, vector in zip(X, V):\n",
        "        sum += np.dot(matrix, vector)  # Увеличиваем сумму на произведение матрицы и вектора\n",
        "    return sum\n",
        "\n",
        "# Тесты\n",
        "X1 = [np.array([[1, 2], [3, 4]]), np.array([[5, 6], [7, 8]])]\n",
        "V1 = [np.array([[1], [1]]), np.array([[1], [1]])]\n",
        "print(sum_prod(X1, V1), \"[[14], [22]]\")\n",
        "\n",
        "X2 = [np.array([[1, 2], [3, 4]]), np.array([[5, 6], [7, 8]])]\n",
        "V2 = [np.array([[0], [0]]), np.array([[0], [0]])]\n",
        "print(sum_prod(X2, V2), \"[[0], [0]]\")\n",
        "\n",
        "X3 = [np.eye(2), np.eye(2)]\n",
        "V3 = [np.array([[1], [1]]), np.array([[2], [2]])]\n",
        "print(sum_prod(X3, V3), \"[[3], [3]]\")\n",
        "\n",
        "X4 = [np.array([[1, 0], [0, 1]])]\n",
        "V4 = [np.array([[1], [2]])]\n",
        "print(sum_prod(X4, V4), \"[[1], [2]]\")"
      ],
      "metadata": {
        "id": "IAbUvEiYyWFF",
        "colab": {
          "base_uri": "https://localhost:8080/"
        },
        "outputId": "4b3f55cb-0810-40c1-9e46-96ff975c0c13"
      },
      "execution_count": null,
      "outputs": [
        {
          "output_type": "stream",
          "name": "stdout",
          "text": [
            "[[14.]\n",
            " [22.]] [[14], [22]]\n",
            "[[0.]\n",
            " [0.]] [[0], [0]]\n",
            "[[3.]\n",
            " [3.]] [[3], [3]]\n",
            "[[1.]\n",
            " [2.]] [[1], [2]]\n"
          ]
        }
      ]
    },
    {
      "cell_type": "markdown",
      "source": [
        "<h1>Задача 2. Дана матрица M, напишите функцию, которая бинаризует матрицу по некоторому threshold (то есть, все значения большие threshold становятся равными 1, иначе 0). Напишите тесты для кода"
      ],
      "metadata": {
        "id": "TKwPG4fIy2w4"
      }
    },
    {
      "cell_type": "code",
      "source": [
        "def binarize(M, threshold):\n",
        "    return(M > threshold).astype(int)\n",
        "\n",
        "M1 = np.array([[0.5, 1.2], [2.3, 0.7]])\n",
        "threshold1 = 0.5\n",
        "print(binarize(M1, threshold1))"
      ],
      "metadata": {
        "id": "KQDNMgsjRNH7",
        "colab": {
          "base_uri": "https://localhost:8080/"
        },
        "outputId": "4ad8447a-5f24-4931-c9a7-9a77870409b9"
      },
      "execution_count": null,
      "outputs": [
        {
          "output_type": "stream",
          "name": "stdout",
          "text": [
            "[[0 1]\n",
            " [1 1]]\n"
          ]
        }
      ]
    },
    {
      "cell_type": "markdown",
      "source": [
        "<h1>Задача 3. Напишите функцию, которая возвращает уникальные элементы из каждой строки матрицы. Напишите такую же функцию, но для столбцов. Напишите тесты для кода"
      ],
      "metadata": {
        "id": "IY5L-h-7zWhN"
      }
    },
    {
      "cell_type": "code",
      "source": [
        "from collections import Counter\n",
        "\n",
        "def unique_rows(mat):\n",
        "    urows = []\n",
        "    for i in mat:\n",
        "        k = Counter(i)\n",
        "        uelements = [j for j in k if k[j] == 1]\n",
        "        urows.append(uelements)\n",
        "    return urows\n",
        "\n",
        "def unique_columns(mat):\n",
        "    ucolumns = []\n",
        "    t = zip(*mat)\n",
        "    for i in t:\n",
        "        k = Counter(i)\n",
        "        uelements = [j for j in k if k[j] == 1]\n",
        "        ucolumns.append(uelements)\n",
        "    return ucolumns\n",
        "\n",
        "matrix = [\n",
        "    [1, 2, 2, 3],\n",
        "    [4, 5, 1, 2],\n",
        "    [3, 5, 4, 4],\n",
        "]\n",
        "print(\"Уникальные элементы строки:\", unique_rows(matrix))\n",
        "print(\"Уникальные элементы столбцов:\", unique_columns(matrix))"
      ],
      "metadata": {
        "id": "-8dEZhR0SBC-",
        "colab": {
          "base_uri": "https://localhost:8080/"
        },
        "outputId": "56c8e70d-c9ad-4c59-eb52-a452e690cc28"
      },
      "execution_count": null,
      "outputs": [
        {
          "output_type": "stream",
          "name": "stdout",
          "text": [
            "Уникальные элементы строки: [[1, 3], [4, 5, 1, 2], [3, 5]]\n",
            "Уникальные элементы столбцов: [[1, 4, 3], [2], [2, 1, 4], [3, 2, 4]]\n"
          ]
        }
      ]
    },
    {
      "cell_type": "markdown",
      "source": [
        "<h1>Задача 4. Напишите функцию, которая заполняет матрицу с размерами $(m, n)$ случайными числами, распределенными по нормальному закону. Затем считает мат. ожидание и дисперсию для каждого из столбцов и строк, а также строит для каждой строки и столбца гистограмму значений (использовать функцию hist из модуля matplotlib.plot)"
      ],
      "metadata": {
        "id": "roYAlo4Jz-lH"
      }
    },
    {
      "cell_type": "code",
      "source": [
        "def AnalyzeMatrix(m, n):\n",
        "    # Заполняем матрицу случайными числами с нормальным распределением\n",
        "    matrix = np.random.normal(loc=0, scale=1, size=(m, n))\n",
        "    # Вычисляем мат ожидание и дисперсию для строк и столбцов\n",
        "    row_means = np.mean(matrix, axis=1)\n",
        "    row_vars = np.var(matrix, axis=1)\n",
        "    col_means = np.mean(matrix, axis=0)\n",
        "    col_vars = np.var(matrix, axis=0)\n",
        "\n",
        "    # Выводим результаты\n",
        "    #print(\"МО строк:\", row_means)\n",
        "    #print(\"Дисперсия строк:\", row_vars)\n",
        "    #print(\"МО столбцов:\", col_means)\n",
        "    #print(\"Дисперсия столбцов:\", col_vars)\n",
        "\n",
        "    # Строим гистограммы\n",
        "    plt.figure(figsize=(12, 8))\n",
        "\n",
        "    # Гистограммы для строк\n",
        "    plt.subplot(2, 2, 1)\n",
        "    plt.hist(row_means, bins=10, color='blue', alpha=0.7)\n",
        "    plt.title('МО строк')\n",
        "    plt.xlabel('Значение МО')\n",
        "    plt.ylabel('Частота')\n",
        "\n",
        "    plt.subplot(2, 2, 2)\n",
        "    plt.hist(row_vars, bins=10, color='orange', alpha=0.7)\n",
        "    plt.title('Дисперсия строк')\n",
        "    plt.xlabel('Значение дисперсии')\n",
        "    plt.ylabel('Частота')\n",
        "\n",
        "    # Гистограммы для столбцов\n",
        "    plt.subplot(2, 2, 3)\n",
        "    plt.hist(col_means, bins=10, color='green', alpha=0.7)\n",
        "    plt.title('МО столбцов')\n",
        "    plt.xlabel('Значение МО')\n",
        "    plt.ylabel('Частота')\n",
        "\n",
        "    plt.subplot(2, 2, 4)\n",
        "    plt.hist(col_vars, bins=10, color='red', alpha=0.7)\n",
        "    plt.title('Дисперсия столбцов')\n",
        "    plt.xlabel('Значение дисперсии')\n",
        "    plt.ylabel('Частота')\n",
        "\n",
        "    plt.tight_layout()\n",
        "    plt.show()\n",
        "\n",
        "# Тест\n",
        "AnalyzeMatrix(10, 10)"
      ],
      "metadata": {
        "id": "nZK_71hMSQzv",
        "colab": {
          "base_uri": "https://localhost:8080/",
          "height": 741
        },
        "outputId": "5285b14d-ecc0-45e7-bdea-44fa118a7499"
      },
      "execution_count": null,
      "outputs": [
        {
          "output_type": "display_data",
          "data": {
            "text/plain": [
              "<Figure size 1200x800 with 4 Axes>"
            ],
            "image/png": "[encoded data removed]"
          },
          "metadata": {}
        }
      ]
    },
    {
      "cell_type": "markdown",
      "source": [
        "<h1>Задача 5. Напишите функцию, которая заполняет матрицу $(m, n)$ в шахматном порядке заданными числами $a$ и $b$. Напишите тесты для кода"
      ],
      "metadata": {
        "id": "BDyATNdM0dJ2"
      }
    },
    {
      "cell_type": "code",
      "source": [
        "def chess(m, n, a, b):\n",
        "    # Создаем матрицу с заданными размерами, заполненную нулями\n",
        "    mat = [[0] * n for i in range(m)]\n",
        "    # Заполняем матрицу в шахматном порядке\n",
        "    for i in range(m):\n",
        "        for j in range(n):\n",
        "            if (i + j) % 2 == 0:\n",
        "                mat[i][j] = a\n",
        "            else:\n",
        "                mat[i][j] = b\n",
        "    return mat\n",
        "\n",
        "# Тесты\n",
        "res1 = chess(3, 3, 1, 2)\n",
        "for i in res1:\n",
        "    print(i)\n",
        "\n",
        "res2 = chess(4, 4, 5, 6)\n",
        "for i in res2:\n",
        "    print(i)\n",
        "\n",
        "res3 = chess(2, 5, 10, 20)\n",
        "for i in res3:\n",
        "    print(i)"
      ],
      "metadata": {
        "id": "RWNJYWQGecS6",
        "colab": {
          "base_uri": "https://localhost:8080/"
        },
        "outputId": "16bf8c75-620e-4dde-8378-bf85c636f2c8"
      },
      "execution_count": null,
      "outputs": [
        {
          "output_type": "stream",
          "name": "stdout",
          "text": [
            "[1, 2, 1]\n",
            "[2, 1, 2]\n",
            "[1, 2, 1]\n",
            "[5, 6, 5, 6]\n",
            "[6, 5, 6, 5]\n",
            "[5, 6, 5, 6]\n",
            "[6, 5, 6, 5]\n",
            "[10, 20, 10, 20, 10]\n",
            "[20, 10, 20, 10, 20]\n"
          ]
        }
      ]
    },
    {
      "cell_type": "markdown",
      "source": [
        "<h1>Задача 6. Напишите функцию, которая отрисовывает прямоугольник с заданными размерами (a, b) на изображении размера (m, n), цвет фона задайте в схеме RGB, как и цвет прямоугольника. Цвета также должны быть параметрами функции. Напишите аналогичную функцию но для овала с полуосями a и b. Напишите тесты для кода.\n",
        "Примечание: уравнение эллипса (границы овала) можно записать как:\n",
        "<h1>$\\frac{(x-x_0)^2}{a^2}+\\frac{(y-y_0)^2}{b^2}=1$"
      ],
      "metadata": {
        "id": "-ymXLtTN0vB6"
      }
    },
    {
      "cell_type": "code",
      "source": [
        "def draw_rectangle(a, b, m, n, rectangle_color, background_color):\n",
        "    # Создаем изображение с заданным цветом фона\n",
        "    image = np.zeros((m, n, 3), dtype=np.uint8)\n",
        "    image[:] = background_color\n",
        "    # Определяем координаты прямоугольника\n",
        "    x0 = (n - a) // 2\n",
        "    y0 = (m - b) // 2\n",
        "    x1 = x0 + a\n",
        "    y1 = y0 + b\n",
        "    # Заполняем прямоугольник заданным цветом\n",
        "    image[y0:y1, x0:x1] = rectangle_color\n",
        "    return image\n",
        "\n",
        "def draw_ellipse(a, b, m, n, ellipse_color, background_color):\n",
        "    # Создаем изображение с заданным цветом фона\n",
        "    image = np.zeros((m, n, 3), dtype=np.uint8)\n",
        "    image[:] = background_color\n",
        "    # Центр эллипса\n",
        "    x0 = n // 2\n",
        "    y0 = m // 2\n",
        "    # Отрисовка эллипса\n",
        "    for y1 in range(m):\n",
        "        for x1 in range(n):\n",
        "            if ((x1 - x0) ** 2) / (a ** 2) + ((y1 - y0) ** 2) / (b ** 2) <= 1:\n",
        "                image[y1, x1] = ellipse_color\n",
        "\n",
        "    return image\n",
        "\n",
        "# Тесты\n",
        "rec_image = draw_rectangle(200, 100, 400, 400, (255, 0, 0), (0, 255, 255))\n",
        "plt.imshow(rec_image)\n",
        "plt.title('Прямоугольник')\n",
        "plt.axis('off')\n",
        "plt.show()\n",
        "\n",
        "ell_image = draw_ellipse(50, 100, 400, 400, (0, 255, 0), (0, 255, 255))\n",
        "plt.imshow(ell_image)\n",
        "plt.title('Эллипс')\n",
        "plt.axis('off')\n",
        "plt.show()"
      ],
      "metadata": {
        "id": "sNfl1t_kfOF4",
        "colab": {
          "base_uri": "https://localhost:8080/",
          "height": 839
        },
        "outputId": "7c5a0c9e-5dea-4297-8b85-5c087277659c"
      },
      "execution_count": null,
      "outputs": [
        {
          "output_type": "display_data",
          "data": {
            "text/plain": [
              "<Figure size 640x480 with 1 Axes>"
            ],
            "image/png": "[encoded data removed]"
          },
          "metadata": {}
        },
        {
          "output_type": "display_data",
          "data": {
            "text/plain": [
              "<Figure size 640x480 with 1 Axes>"
            ],
            "image/png": "[encoded data removed]"
          },
          "metadata": {}
        }
      ]
    },
    {
      "cell_type": "markdown",
      "source": [
        "<h1>Задача 7. Дан некий временной ряд. Для данного ряда нужно найти его: математическое ожидание, дисперсию, СКО, найти все локальные максимумы и минимумы (локальный максимум - это точка, которая больше своих соседних точек, а локальный минимум - это точка, которая меньше своих соседей), а также вычислить для данного ряда другой ряд, получаемый методом скользящего среднего с размером окна $p$.\n",
        "<h1>Примечание: метод скользящего среднего подразумевает нахождение среднего из подмножетсва ряда размером $p$"
      ],
      "metadata": {
        "id": "S82c38oz244H"
      }
    },
    {
      "cell_type": "code",
      "source": [
        "def AnalyzeTime(data, p):\n",
        "    # Преобразуем данные в numpy массив\n",
        "    data = np.array(data)\n",
        "    # Вычисляем математическое ожидание, дисперсию и СКО\n",
        "    mean = np.mean(data)\n",
        "    dvar = np.var(data)\n",
        "    dstd = np.std(data)\n",
        "    # Находим локальные максимумы и минимумы\n",
        "    lmax = (data[1:-1] > data[:-2]) & (data[1:-1] > data[2:])\n",
        "    lmin = (data[1:-1] < data[:-2]) & (data[1:-1] < data[2:])\n",
        "    lmaxi = np.where(lmax)[0] + 1  # Смещаем на 1 из-за среза\n",
        "    lmini = np.where(lmin)[0] + 1\n",
        "    # Вычисляем скользящее среднее\n",
        "    rolling_mean = pd.Series(data).rolling(window=p).mean().to_numpy()\n",
        "    # Возвращаем результаты\n",
        "    return {\n",
        "        'Математическое ожидание': mean,\n",
        "        'Дисперсия': dvar,\n",
        "        'СКО': dstd,\n",
        "        'Локальные максимумы': lmaxi,\n",
        "        'Локальные минимумы': lmini,\n",
        "        'Скользящее среднее': rolling_mean\n",
        "    }\n",
        "\n",
        "# Тест\n",
        "time_series = [1, 3, 2, 5, 4, 6, 2, 3, 5, 1, 4, 3]\n",
        "p = 3\n",
        "results = AnalyzeTime(time_series, p)\n",
        "print(\"Математическое ожидание:\", results['Математическое ожидание'])\n",
        "print(\"Дисперсия:\", results['Дисперсия'])\n",
        "print(\"СКО:\", results['СКО'])\n",
        "print(\"Локальные максимумы:\", results['Локальные максимумы'])\n",
        "print(\"Локальные минимумы:\", results['Локальные минимумы'])\n",
        "print(\"Скользящее среднее:\", results['Скользящее среднее'])"
      ],
      "metadata": {
        "id": "Zb9mIVge5MMt",
        "colab": {
          "base_uri": "https://localhost:8080/"
        },
        "outputId": "51a56ef0-1371-4f48-bede-abd2f72e05ca"
      },
      "execution_count": null,
      "outputs": [
        {
          "output_type": "stream",
          "name": "stdout",
          "text": [
            "Математическое ожидание: 3.25\n",
            "Дисперсия: 2.3541666666666665\n",
            "СКО: 1.5343293866268306\n",
            "Локальные максимумы: [ 1  3  5  8 10]\n",
            "Локальные минимумы: [2 4 6 9]\n",
            "Скользящее среднее: [       nan        nan 2.         3.33333333 3.66666667 5.\n",
            " 4.         3.66666667 3.33333333 3.         3.33333333 2.66666667]\n"
          ]
        }
      ]
    },
    {
      "cell_type": "markdown",
      "source": [
        "<h1> Задача 8. Дан некоторый вектор с целочисленными метками классов, напишите функцию, которая выполняет one-hot-encoding для данного вектора\n",
        "<h1> One-hot-encoding - представление, в котором на месте метки некоторого класса стоит 1, в остальных позициях стоит 0. Например для вектора [0, 2, 3, 0] one-hot-encoding выглядит как: [[1, 0, 0, 0], [0, 0, 1, 0], [0, 0, 0, 1], [1, 0, 0, 0]]"
      ],
      "metadata": {
        "id": "jPkylmOX5O9n"
      }
    },
    {
      "cell_type": "code",
      "source": [
        "def OneHot(labels):\n",
        "    # Преобразуем вектор меток в numpy массив для удобства\n",
        "    labels = np.array(labels)\n",
        "    # Определяем количество уникальных классов\n",
        "    nclasses = np.max(labels) + 1  # Учитываем, что классы могут начинаться с 0\n",
        "    # Создаем матрицу one-hot кодирования\n",
        "    one_hot = np.zeros((labels.size, nclasses), dtype=int)\n",
        "    # Заполняем матрицу\n",
        "    one_hot[np.arange(labels.size), labels] = 1\n",
        "    return one_hot\n",
        "# Тест\n",
        "labels = [3, 1, 1, 2, 5]\n",
        "a = OneHot(labels)\n",
        "print(a)"
      ],
      "metadata": {
        "id": "Y-jlnZvw56lD",
        "colab": {
          "base_uri": "https://localhost:8080/"
        },
        "outputId": "2ed336dd-190d-4c12-8881-48c9b2b7bfc1"
      },
      "execution_count": null,
      "outputs": [
        {
          "output_type": "stream",
          "name": "stdout",
          "text": [
            "[[0 0 0 1 0 0]\n",
            " [0 1 0 0 0 0]\n",
            " [0 1 0 0 0 0]\n",
            " [0 0 1 0 0 0]\n",
            " [0 0 0 0 0 1]]\n"
          ]
        }
      ]
    }
  ]
}